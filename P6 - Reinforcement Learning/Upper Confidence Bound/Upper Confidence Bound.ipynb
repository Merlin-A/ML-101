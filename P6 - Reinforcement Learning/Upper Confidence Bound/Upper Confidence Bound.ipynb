{
 "cells": [
  {
   "cell_type": "markdown",
   "id": "1af34a4d",
   "metadata": {},
   "source": [
    "https://youtu.be/TIlDzLZPyhY"
   ]
  },
  {
   "cell_type": "code",
   "execution_count": null,
   "id": "b485cb54",
   "metadata": {},
   "outputs": [],
   "source": []
  },
  {
   "cell_type": "markdown",
   "id": "16206b68",
   "metadata": {},
   "source": [
    "#### Regret Optimality \n",
    "##### Minimizing - Total reward over the process of learning, the initilai loss due to the exploration is minimized so that the optimal case can be achieved as quickly as possible"
   ]
  },
  {
   "cell_type": "code",
   "execution_count": 4,
   "id": "2074ea02",
   "metadata": {},
   "outputs": [],
   "source": [
    "import pandas as pd \n",
    "import numpy as np \n",
    "import matplotlib.pyplot as plt "
   ]
  },
  {
   "cell_type": "code",
   "execution_count": 5,
   "id": "446cc790",
   "metadata": {},
   "outputs": [],
   "source": [
    "dataset = pd.read_csv('./Ads_CTR_Optimisation.csv')"
   ]
  },
  {
   "cell_type": "markdown",
   "id": "68bd3838",
   "metadata": {},
   "source": [
    "## Implementing The UCB\n",
    "\n",
    "\n",
    "##### In reinforcefement learning we want to find the optimal way to do something using the least number of steps. \n",
    "In this example we want to check if a  ad is sitable to be published and we do that by sending to initial 10k customers. But we wish to get the answer beffore all 10k see it. So we use the ucb algorithm. \n",
    "We have 10 samples of ads and we wish to find the best one among them \n",
    "\n",
    "What the UCB algorithm will do is, \n",
    "it will send the 10 ads to each customer at a time and will receive a feedback, if the person clicks the ad feedback = reward = 1, if not then reward = 0. \n",
    "We want to check as soon as possible if a certain ad is cl being clicked by omore people that other and.\n",
    "What UCB does is it will run on theese ad s one user at a time, collect there feedback and also check how many times the add has been shown to i.e. the number of users the ad has been show to. \n",
    "Then as the first step it will calculate the average reward for every user, for e.g. if  add is clicked('1') one time in the first user its avg_reward will be 1/1, if the add i clicked for the sefcond time overall by the fifth user, its avg_reward will be 2/5. \n",
    "Then for every user the ad is shown, ucb dynamically calculates the confidence interval by using the given formula. And tries to find the upper confience  bound of that particular ad by adding average reward and the confidence interval. \n",
    "For the first user when the ad is being show for the first time, we do the 1e400 trick to instantiate its ucb so that we can use it for later user when it becomes zero again. \n",
    "With each passing user, if the number of clicked increases, thanks to the formula the upper confidence bound will keep on reducing and the number of rewards will keep on increasing. \n",
    "The ads selected array is the array of the most selected ads, in the end the most frequent ads will be selected even before the entire 10k users have been shown the add based on the upper confidence bound."
   ]
  },
  {
   "cell_type": "code",
   "execution_count": 18,
   "id": "4df23dc4",
   "metadata": {},
   "outputs": [],
   "source": [
    "import math\n",
    "# N = 500\n",
    "# N = 1000\n",
    "N = 5000\n",
    "# N = 10000\n",
    "d = 10\n",
    "ads_selected = []\n",
    "numbers_of_selections = [0] * d\n",
    "sums_of_rewards = [0] * d\n",
    "total_reward = 0\n",
    "for n in range(0, N): \n",
    "    ad = 0\n",
    "    max_upper_bound = 0\n",
    "    for i in range(0, d):\n",
    "        if (numbers_of_selections[i] > 0):\n",
    "            average_reward = sums_of_rewards[i] / numbers_of_selections[i]\n",
    "            delta_i = math.sqrt(3/2 * math.log(n + 1) / numbers_of_selections[i])\n",
    "            ## THEOROTICALLY THE CONFIDENCE INTERVAL GOES IN REDUCING WITH MORE THE NO. OF ADS CLICKED\n",
    "            ## IN IMPLEMENTATION WHEREAS THE UCB GOES ON INCREASING \n",
    "            upper_bound = average_reward + delta_i\n",
    "        else:\n",
    "            upper_bound = 1e400\n",
    "            ## AND BECAUSE OF THIS CONDITION, WHENEVER THE UCB IS > MAX_UCB, IT IS CONSIDERED MAX_UCB\n",
    "            ## AND THAT AD IS SELECTED\n",
    "            ## THUS THE AD WITH THE HIGHEST UCB IS SELECTED MORE THAN OTHERS. \n",
    "            ## IT IS THE SAME LOGIC, BUT EASIER TO IMPLEMENT\n",
    "        if upper_bound > max_upper_bound:\n",
    "            max_upper_bound = upper_bound\n",
    "            ad = i\n",
    "    ads_selected.append(ad)\n",
    "    numbers_of_selections[ad] = numbers_of_selections[ad] + 1\n",
    "    reward = dataset.values[n, ad]\n",
    "    sums_of_rewards[ad] = sums_of_rewards[ad] + reward\n",
    "    total_reward = total_reward + reward"
   ]
  },
  {
   "cell_type": "code",
   "execution_count": 19,
   "id": "d7831c7e",
   "metadata": {},
   "outputs": [],
   "source": [
    "## visualizing the results"
   ]
  },
  {
   "cell_type": "code",
   "execution_count": 20,
   "id": "5565764e",
   "metadata": {},
   "outputs": [
    {
     "data": {
      "image/png": "[encoded data removed]",
      "text/plain": [
       "<Figure size 432x288 with 1 Axes>"
      ]
     },
     "metadata": {
      "needs_background": "light"
     },
     "output_type": "display_data"
    }
   ],
   "source": [
    "plt.hist(ads_selected)\n",
    "plt.title('Ad Selection Histogram')\n",
    "plt.xlabel('Ads')\n",
    "plt.ylabel('Number of Times')\n",
    "plt.show()"
   ]
  },
  {
   "cell_type": "code",
   "execution_count": null,
   "id": "255b57b0",
   "metadata": {},
   "outputs": [],
   "source": []
  }
 ],
 "metadata": {
  "kernelspec": {
   "display_name": "Python 3 (ipykernel)",
   "language": "python",
   "name": "python3"
  },
  "language_info": {
   "codemirror_mode": {
    "name": "ipython",
    "version": 3
   },
   "file_extension": ".py",
   "mimetype": "text/x-python",
   "name": "python",
   "nbconvert_exporter": "python",
   "pygments_lexer": "ipython3",
   "version": "3.9.4"
  }
 },
 "nbformat": 4,
 "nbformat_minor": 5
}
