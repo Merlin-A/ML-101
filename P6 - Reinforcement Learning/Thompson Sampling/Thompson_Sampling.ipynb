{
 "cells": [
  {
   "cell_type": "code",
   "execution_count": 18,
   "id": "f356264b",
   "metadata": {},
   "outputs": [],
   "source": [
    "import pandas as pd \n",
    "import numpy as np \n",
    "import matplotlib.pyplot as plt \n"
   ]
  },
  {
   "cell_type": "code",
   "execution_count": null,
   "id": "1cc52161",
   "metadata": {},
   "outputs": [],
   "source": []
  },
  {
   "cell_type": "code",
   "execution_count": 19,
   "id": "2b9c3b39",
   "metadata": {},
   "outputs": [],
   "source": [
    "dataset = pd.read_csv('./Ads_CTR_Optimisation.csv')"
   ]
  },
  {
   "cell_type": "code",
   "execution_count": 32,
   "id": "8584ba58",
   "metadata": {},
   "outputs": [],
   "source": [
    "import random\n",
    "# N = 1000\n",
    "# N = 5000\n",
    "N = 10000\n",
    "\n",
    "\n",
    "\n",
    "\n",
    "d = 10\n",
    "ads_selected = []\n",
    "reward_1 = [0]*d\n",
    "reward_0 = [0]*d\n",
    "\n",
    "for n in range(0, N):\n",
    "    \n",
    "    ad = 0\n",
    "    max_random = 0\n",
    "    \n",
    "    for i in range(0, d):\n",
    "        random_beta = random.betavariate(reward_1[i] + 1, reward_0[i]+1)\n",
    "        \n",
    "        if random_beta > max_random:\n",
    "            max_random = random_beta\n",
    "            ad = i\n",
    "            \n",
    "    ads_selected.append(ad)\n",
    "    reward = dataset.values[n, ad]\n",
    "    if (reward == 1):\n",
    "        reward_1[ad] = reward_1[ad] + 1\n",
    "    else:\n",
    "        reward_0[ad] = reward_0[ad] + 1\n",
    "        \n",
    "    \n",
    "    \n",
    "        \n",
    "        \n",
    "            \n",
    "    \n"
   ]
  },
  {
   "cell_type": "code",
   "execution_count": null,
   "id": "81207575",
   "metadata": {},
   "outputs": [],
   "source": []
  },
  {
   "cell_type": "code",
   "execution_count": 33,
   "id": "60dbd10d",
   "metadata": {},
   "outputs": [
    {
     "data": {
      "image/png": "[encoded data removed]",
      "text/plain": [
       "<Figure size 432x288 with 1 Axes>"
      ]
     },
     "metadata": {
      "needs_background": "light"
     },
     "output_type": "display_data"
    }
   ],
   "source": [
    "plt.hist(ads_selected)\n",
    "plt.title('Ad Selection Histogram')\n",
    "plt.xlabel('Ads')\n",
    "plt.ylabel('Number of Times')\n",
    "plt.show()"
   ]
  },
  {
   "cell_type": "code",
   "execution_count": null,
   "id": "82815286",
   "metadata": {},
   "outputs": [],
   "source": []
  },
  {
   "cell_type": "code",
   "execution_count": null,
   "id": "9e3adf90",
   "metadata": {},
   "outputs": [],
   "source": []
  }
 ],
 "metadata": {
  "kernelspec": {
   "display_name": "Python 3 (ipykernel)",
   "language": "python",
   "name": "python3"
  },
  "language_info": {
   "codemirror_mode": {
    "name": "ipython",
    "version": 3
   },
   "file_extension": ".py",
   "mimetype": "text/x-python",
   "name": "python",
   "nbconvert_exporter": "python",
   "pygments_lexer": "ipython3",
   "version": "3.9.4"
  }
 },
 "nbformat": 4,
 "nbformat_minor": 5
}
