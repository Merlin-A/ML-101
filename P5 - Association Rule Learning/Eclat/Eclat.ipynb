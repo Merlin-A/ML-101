{
 "cells": [
  {
   "cell_type": "code",
   "execution_count": null,
   "id": "c1a885d2",
   "metadata": {},
   "outputs": [],
   "source": []
  },
  {
   "cell_type": "code",
   "execution_count": 1,
   "id": "425aa6ac",
   "metadata": {},
   "outputs": [],
   "source": [
    "import pandas as pd \n",
    "import numpy as np \n",
    "import matplotlib.pyplot as plt "
   ]
  },
  {
   "cell_type": "code",
   "execution_count": null,
   "id": "83096c9e",
   "metadata": {},
   "outputs": [],
   "source": [
    "dataset = pd.read_csv('./Market_Basket_Optimisation.csv')\n",
    "transactions = []\n",
    "for i in range(0, 7501):\n",
    "    transactions.append([ ## WE APPEND THE EACH ENTRY INTO THE DATASET INTO THE TRANSACTIONS ARRAY, NONE WHERE NO ENTRY\n",
    "        str(dataset.values[i, j]) for j in range(0, 20) \n",
    "    ])\n"
   ]
  },
  {
   "cell_type": "code",
   "execution_count": null,
   "id": "04cc2f68",
   "metadata": {},
   "outputs": [],
   "source": [
    "print(transactions)"
   ]
  },
  {
   "cell_type": "markdown",
   "id": "fd646970",
   "metadata": {},
   "source": [
    "## Training the Eclat Model "
   ]
  },
  {
   "cell_type": "code",
   "execution_count": null,
   "id": "820314f7",
   "metadata": {},
   "outputs": [],
   "source": [
    "from apyori import apriori\n",
    "## APRIORI(TRANSACTIONS_ARRAY, MIN_SUPPORT, MIN_CONFIDENCE, MIN_LIFT, MIN_NO_ARRAYS-LEFT SIDE =2, NUMBER OF ARRAYS ON THE RIGHT SIDE)\n",
    "rules = apriori(transactions=transactions, min_support = 0.003, min_confidence = 0.2, min_lift = 3, min_length = 2, min_max = 2 )"
   ]
  },
  {
   "cell_type": "code",
   "execution_count": null,
   "id": "ea80465a",
   "metadata": {},
   "outputs": [],
   "source": [
    "results = list(rules)\n",
    "print(results)\n"
   ]
  },
  {
   "cell_type": "code",
   "execution_count": null,
   "id": "5a91d4e5",
   "metadata": {},
   "outputs": [],
   "source": [
    "def inspect(results):\n",
    "    lhs         = [tuple(result[2][0][0])[0] for result in results]\n",
    "    rhs         = [tuple(result[2][0][1])[0] for result in results]\n",
    "    supports    = [result[1] for result in results]\n",
    "        return list(zip(lhs, rhs, supports))\n",
    "resultsinDataFrame = pd.DataFrame(inspect(results), columns = ['PRODUCT 1', 'PRODUCT 1', 'Support'])\n",
    "\n"
   ]
  },
  {
   "cell_type": "code",
   "execution_count": null,
   "id": "5a2de524",
   "metadata": {},
   "outputs": [],
   "source": [
    "resultsinDataFrame.nlargest(n = 10, columns = 'Support')"
   ]
  },
  {
   "cell_type": "code",
   "execution_count": null,
   "id": "5b8f9ac4",
   "metadata": {},
   "outputs": [],
   "source": []
  }
 ],
 "metadata": {
  "kernelspec": {
   "display_name": "Python 3 (ipykernel)",
   "language": "python",
   "name": "python3"
  },
  "language_info": {
   "codemirror_mode": {
    "name": "ipython",
    "version": 3
   },
   "file_extension": ".py",
   "mimetype": "text/x-python",
   "name": "python",
   "nbconvert_exporter": "python",
   "pygments_lexer": "ipython3",
   "version": "3.9.4"
  }
 },
 "nbformat": 4,
 "nbformat_minor": 5
}
