{
 "cells": [
  {
   "cell_type": "markdown",
   "id": "ccfa4747",
   "metadata": {},
   "source": [
    "# Data Preprocessing"
   ]
  },
  {
   "cell_type": "code",
   "execution_count": 1,
   "id": "2d1f8612",
   "metadata": {},
   "outputs": [],
   "source": [
    "import tensorflow as tf\n",
    "from keras.preprocessing.image import ImageDataGenerator"
   ]
  },
  {
   "cell_type": "code",
   "execution_count": 2,
   "id": "de915ce9",
   "metadata": {},
   "outputs": [
    {
     "data": {
      "text/plain": [
       "'2.10.0'"
      ]
     },
     "execution_count": 2,
     "metadata": {},
     "output_type": "execute_result"
    }
   ],
   "source": [
    "tf.__version__"
   ]
  },
  {
   "cell_type": "markdown",
   "id": "58f9144e",
   "metadata": {},
   "source": [
    "## Preprocessing Training Set"
   ]
  },
  {
   "cell_type": "code",
   "execution_count": 3,
   "id": "3c821981",
   "metadata": {},
   "outputs": [
    {
     "name": "stdout",
     "output_type": "stream",
     "text": [
      "Found 7999 images belonging to 2 classes.\n"
     ]
    }
   ],
   "source": [
    "# Preprocess Training Set to avoid Overfitting\n",
    "train_datagen = ImageDataGenerator(\n",
    "rescale=1./255, #Feature Scaling\n",
    "shear_range=0.2, \n",
    "zoom_range= 0.2, \n",
    "horizontal_flip=True)\n",
    "\n",
    "#Loading The Image from location and processing them\n",
    "training_set = train_datagen.flow_from_directory('./dataset/training_set/',\n",
    "                                                target_size=(64, 64), #Change pixel size\n",
    "                                                batch_size=32, \n",
    "                                                class_mode='binary')"
   ]
  },
  {
   "cell_type": "markdown",
   "id": "bb10cc9f",
   "metadata": {},
   "source": [
    "## Preprocessing Test Set"
   ]
  },
  {
   "cell_type": "code",
   "execution_count": 4,
   "id": "7c2629e0",
   "metadata": {},
   "outputs": [
    {
     "name": "stdout",
     "output_type": "stream",
     "text": [
      "Found 2000 images belonging to 2 classes.\n"
     ]
    }
   ],
   "source": [
    "#Same with test dataset\n",
    "test_datagen = ImageDataGenerator(rescale=1./255)\n",
    "test_set = test_datagen.flow_from_directory(\n",
    "        './dataset/test_set/',\n",
    "        target_size= (64,64), \n",
    "        batch_size=32, \n",
    "        class_mode='binary')"
   ]
  },
  {
   "cell_type": "markdown",
   "id": "b33eaa4b",
   "metadata": {},
   "source": [
    "# Building The CNN"
   ]
  },
  {
   "cell_type": "markdown",
   "id": "68478ac6",
   "metadata": {},
   "source": [
    "## Initialising the CNN"
   ]
  },
  {
   "cell_type": "code",
   "execution_count": 5,
   "id": "dbf17195",
   "metadata": {},
   "outputs": [],
   "source": [
    "cnn = tf.keras.models.Sequential() # Forms a sequence of Layers\n"
   ]
  },
  {
   "cell_type": "markdown",
   "id": "aaf521fd",
   "metadata": {},
   "source": [
    "## 1. Convultion"
   ]
  },
  {
   "cell_type": "code",
   "execution_count": 6,
   "id": "e547f864",
   "metadata": {},
   "outputs": [],
   "source": [
    "# Filer - size, feature detector size = 3 x 3, rectifier = relu, input size = 64 x 64 & 3d \n",
    "cnn.add(tf.keras.layers.Conv2D(filters = 32, kernel_size = 3, activation = 'relu', input_shape = [64, 64, 3])) # Adds Convolutional Layer"
   ]
  },
  {
   "cell_type": "markdown",
   "id": "5c06db0a",
   "metadata": {},
   "source": [
    "## 2. Pooling"
   ]
  },
  {
   "cell_type": "code",
   "execution_count": 7,
   "id": "44ecbe60",
   "metadata": {},
   "outputs": [],
   "source": [
    "# pool table size = 2 x 2, how many pixels does the pooling table move\n",
    "cnn.add(tf.keras.layers.MaxPool2D(pool_size = 2, strides = 2))"
   ]
  },
  {
   "cell_type": "markdown",
   "id": "00574592",
   "metadata": {},
   "source": [
    "### Adding a second convulatoinal layer for better training"
   ]
  },
  {
   "cell_type": "code",
   "execution_count": 8,
   "id": "793771de",
   "metadata": {},
   "outputs": [],
   "source": [
    "cnn.add(tf.keras.layers.Conv2D(filters = 32, kernel_size = 3, activation = 'relu')) # Adds Convolutional Layer\n",
    "cnn.add(tf.keras.layers.MaxPooling2D(pool_size = 2, strides = 2))"
   ]
  },
  {
   "cell_type": "markdown",
   "id": "3a61fead",
   "metadata": {},
   "source": [
    "## 3. Flattening"
   ]
  },
  {
   "cell_type": "code",
   "execution_count": 9,
   "id": "33b0fbdc",
   "metadata": {},
   "outputs": [],
   "source": [
    "# Flatten the module\n",
    "cnn.add(tf.keras.layers.Flatten())"
   ]
  },
  {
   "cell_type": "markdown",
   "id": "1afd925d",
   "metadata": {},
   "source": [
    "## 4. Full Connection"
   ]
  },
  {
   "cell_type": "code",
   "execution_count": 10,
   "id": "bc84e203",
   "metadata": {},
   "outputs": [],
   "source": [
    "# Adding the neurons, 128 neurons\n",
    "# Hidden Layers\n",
    "cnn.add(tf.keras.layers.Dense(units = 128, activation = 'relu'))"
   ]
  },
  {
   "cell_type": "markdown",
   "id": "14ad70bf",
   "metadata": {},
   "source": [
    "## 5. Output Layer"
   ]
  },
  {
   "cell_type": "code",
   "execution_count": 11,
   "id": "33530b9b",
   "metadata": {},
   "outputs": [],
   "source": [
    "#As Binary Classificaiton, output layer has just one neuron\n",
    "cnn.add(tf.keras.layers.Dense(units = 1, activation = 'sigmoid')) #Final Output Layer "
   ]
  },
  {
   "cell_type": "markdown",
   "id": "98d46266",
   "metadata": {},
   "source": [
    "# Training The CNN"
   ]
  },
  {
   "cell_type": "markdown",
   "id": "0a1eba3b",
   "metadata": {},
   "source": [
    "## Compiling The CNN"
   ]
  },
  {
   "cell_type": "code",
   "execution_count": 30,
   "id": "6175f19e",
   "metadata": {},
   "outputs": [],
   "source": [
    "# Compiling the CNN with an optimizer, to reduce error rate between target and prediction\n",
    "cnn.compile(optimizer='adam', loss = 'binary_crossentropy', metrics = ['accuracy'])"
   ]
  },
  {
   "cell_type": "code",
   "execution_count": 13,
   "id": "e7f48266",
   "metadata": {},
   "outputs": [
    {
     "name": "stdout",
     "output_type": "stream",
     "text": [
      "Epoch 1/25\n",
      "250/250 [==============================] - 261s 1s/step - loss: 0.6613 - accuracy: 0.5964 - val_loss: 0.6223 - val_accuracy: 0.6530\n",
      "Epoch 2/25\n",
      "250/250 [==============================] - 43s 172ms/step - loss: 0.6229 - accuracy: 0.6575 - val_loss: 0.6426 - val_accuracy: 0.6480\n",
      "Epoch 3/25\n",
      "250/250 [==============================] - 43s 173ms/step - loss: 0.5676 - accuracy: 0.7036 - val_loss: 0.5138 - val_accuracy: 0.7570\n",
      "Epoch 4/25\n",
      "250/250 [==============================] - 42s 170ms/step - loss: 0.5280 - accuracy: 0.7333 - val_loss: 0.5142 - val_accuracy: 0.7565\n",
      "Epoch 5/25\n",
      "250/250 [==============================] - 45s 181ms/step - loss: 0.5072 - accuracy: 0.7457 - val_loss: 0.5073 - val_accuracy: 0.7490\n",
      "Epoch 6/25\n",
      "250/250 [==============================] - 147s 591ms/step - loss: 0.4808 - accuracy: 0.7696 - val_loss: 0.4712 - val_accuracy: 0.7755\n",
      "Epoch 7/25\n",
      "250/250 [==============================] - 68s 273ms/step - loss: 0.4707 - accuracy: 0.7716 - val_loss: 0.4782 - val_accuracy: 0.7725\n",
      "Epoch 8/25\n",
      "250/250 [==============================] - 44s 175ms/step - loss: 0.4567 - accuracy: 0.7815 - val_loss: 0.5107 - val_accuracy: 0.7545\n",
      "Epoch 9/25\n",
      "250/250 [==============================] - 50s 201ms/step - loss: 0.4377 - accuracy: 0.8005 - val_loss: 0.4673 - val_accuracy: 0.7870\n",
      "Epoch 10/25\n",
      "250/250 [==============================] - 123s 494ms/step - loss: 0.4261 - accuracy: 0.8001 - val_loss: 0.4697 - val_accuracy: 0.7855\n",
      "Epoch 11/25\n",
      "250/250 [==============================] - 129s 515ms/step - loss: 0.4103 - accuracy: 0.8054 - val_loss: 0.4479 - val_accuracy: 0.8050\n",
      "Epoch 12/25\n",
      "250/250 [==============================] - 41s 163ms/step - loss: 0.3951 - accuracy: 0.8185 - val_loss: 0.4349 - val_accuracy: 0.8050\n",
      "Epoch 13/25\n",
      "250/250 [==============================] - 85s 342ms/step - loss: 0.3765 - accuracy: 0.8311 - val_loss: 0.4554 - val_accuracy: 0.7945\n",
      "Epoch 14/25\n",
      "250/250 [==============================] - 69s 274ms/step - loss: 0.3666 - accuracy: 0.8326 - val_loss: 0.4428 - val_accuracy: 0.8035\n",
      "Epoch 15/25\n",
      "250/250 [==============================] - 36s 142ms/step - loss: 0.3590 - accuracy: 0.8386 - val_loss: 0.4828 - val_accuracy: 0.7810\n",
      "Epoch 16/25\n",
      "250/250 [==============================] - 35s 139ms/step - loss: 0.3380 - accuracy: 0.8510 - val_loss: 0.4438 - val_accuracy: 0.8010\n",
      "Epoch 17/25\n",
      "250/250 [==============================] - 37s 149ms/step - loss: 0.3262 - accuracy: 0.8614 - val_loss: 0.4851 - val_accuracy: 0.7810\n",
      "Epoch 18/25\n",
      "250/250 [==============================] - 39s 154ms/step - loss: 0.3096 - accuracy: 0.8670 - val_loss: 0.5063 - val_accuracy: 0.7850\n",
      "Epoch 19/25\n",
      "250/250 [==============================] - 39s 157ms/step - loss: 0.2979 - accuracy: 0.8737 - val_loss: 0.4679 - val_accuracy: 0.8070\n",
      "Epoch 20/25\n",
      "250/250 [==============================] - 36s 145ms/step - loss: 0.2866 - accuracy: 0.8775 - val_loss: 0.4890 - val_accuracy: 0.7980\n",
      "Epoch 21/25\n",
      "250/250 [==============================] - 89s 359ms/step - loss: 0.2728 - accuracy: 0.8850 - val_loss: 0.4760 - val_accuracy: 0.8085\n",
      "Epoch 22/25\n",
      "250/250 [==============================] - 41s 166ms/step - loss: 0.2636 - accuracy: 0.8890 - val_loss: 0.4878 - val_accuracy: 0.8100\n",
      "Epoch 23/25\n",
      "250/250 [==============================] - 37s 150ms/step - loss: 0.2455 - accuracy: 0.8994 - val_loss: 0.4793 - val_accuracy: 0.8105\n",
      "Epoch 24/25\n",
      "250/250 [==============================] - 38s 152ms/step - loss: 0.2277 - accuracy: 0.9056 - val_loss: 0.5456 - val_accuracy: 0.7960\n",
      "Epoch 25/25\n",
      "250/250 [==============================] - 34s 136ms/step - loss: 0.2340 - accuracy: 0.9019 - val_loss: 0.4857 - val_accuracy: 0.8110\n"
     ]
    },
    {
     "data": {
      "text/plain": [
       "<keras.callbacks.History at 0x22d02f81100>"
      ]
     },
     "execution_count": 13,
     "metadata": {},
     "output_type": "execute_result"
    }
   ],
   "source": [
    "cnn.fit(x = training_set, validation_data = test_set, epochs = 25)"
   ]
  },
  {
   "cell_type": "markdown",
   "id": "ee8f93d1",
   "metadata": {},
   "source": [
    "# Making Prediction\n",
    "### Single Prediction"
   ]
  },
  {
   "cell_type": "code",
   "execution_count": 29,
   "id": "9f4301c1",
   "metadata": {},
   "outputs": [
    {
     "name": "stdout",
     "output_type": "stream",
     "text": [
      "1/1 [==============================] - 0s 25ms/step\n",
      "[[0.]]\n"
     ]
    }
   ],
   "source": [
    "import numpy as np\n",
    "from keras.preprocessing import image\n",
    "# Load Test Image for prediction in a pil format\n",
    "test_image = tf.keras.preprocessing.image.load_img('./dataset/single_prediction/cat_or_dog_2.jpg', target_size=(64, 64))\n",
    "\n",
    "# Now as predict method requires a 2d Array we convert this image into one\n",
    "\n",
    "test_image = tf.keras.preprocessing.image.img_to_array(test_image)\n",
    "#As the training images have been trained in batches\n",
    "# the test image should also be in a batch, if only one\n",
    "# Thus we add a fake dimension here to create a batch \n",
    "test_image = np.expand_dims(test_image, axis=0)\n",
    "\n",
    "result = cnn.predict(test_image)\n",
    "\n",
    "# TO DECIDE IN A BINARY PREDICTION WHICH IS ONE AND WHICH IS ZERO\n",
    "# CLASS INDICES ARE USED ON TRAINING SET WHICH HELP IN ALLOCATING THAT\n",
    "training_set.class_indices\n",
    "\n",
    "if result[0][0] == 1:  #DOG is ONE\n",
    "    prediction = 'dog'\n",
    "else:\n",
    "    prediction = 'cat'\n",
    "    \n",
    "print(result)\n",
    "    "
   ]
  },
  {
   "cell_type": "code",
   "execution_count": 32,
   "id": "b503f402",
   "metadata": {},
   "outputs": [
    {
     "name": "stdout",
     "output_type": "stream",
     "text": [
      "cat\n"
     ]
    }
   ],
   "source": [
    "print(prediction)\n"
   ]
  },
  {
   "cell_type": "code",
   "execution_count": null,
   "id": "cb158e6c",
   "metadata": {},
   "outputs": [],
   "source": []
  }
 ],
 "metadata": {
  "kernelspec": {
   "display_name": "Python 3 (ipykernel)",
   "language": "python",
   "name": "python3"
  },
  "language_info": {
   "codemirror_mode": {
    "name": "ipython",
    "version": 3
   },
   "file_extension": ".py",
   "mimetype": "text/x-python",
   "name": "python",
   "nbconvert_exporter": "python",
   "pygments_lexer": "ipython3",
   "version": "3.9.4"
  }
 },
 "nbformat": 4,
 "nbformat_minor": 5
}
