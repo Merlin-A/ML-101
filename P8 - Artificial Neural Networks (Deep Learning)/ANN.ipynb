{
 "cells": [
  {
   "cell_type": "code",
   "execution_count": 4,
   "id": "ea2c47ee",
   "metadata": {},
   "outputs": [
    {
     "data": {
      "text/plain": [
       "'2.10.0'"
      ]
     },
     "execution_count": 4,
     "metadata": {},
     "output_type": "execute_result"
    }
   ],
   "source": [
    "import pandas as pd \n",
    "import numpy as np \n",
    "import matplotlib.pyplot as plt \n",
    "import tensorflow as tf\n",
    "tf.__version__"
   ]
  },
  {
   "cell_type": "code",
   "execution_count": 55,
   "id": "f4ee64be",
   "metadata": {},
   "outputs": [
    {
     "name": "stdout",
     "output_type": "stream",
     "text": [
      "RowNumber                  1\n",
      "CustomerId          15634602\n",
      "Surname             Hargrave\n",
      "CreditScore              619\n",
      "Geography             France\n",
      "Gender                Female\n",
      "Age                       42\n",
      "Tenure                     2\n",
      "Balance                  0.0\n",
      "NumOfProducts              1\n",
      "HasCrCard                  1\n",
      "IsActiveMember             1\n",
      "EstimatedSalary    101348.88\n",
      "Exited                     1\n",
      "Name: 0, dtype: object\n"
     ]
    }
   ],
   "source": [
    "dataset = pd.read_csv('./Churn_Modelling.csv')\n",
    "X = dataset.iloc[:, 3:-1].values\n",
    "y = dataset.iloc[:, -1].values\n",
    "print(dataset.iloc[0, :])"
   ]
  },
  {
   "cell_type": "code",
   "execution_count": 56,
   "id": "a0ed5311",
   "metadata": {},
   "outputs": [
    {
     "name": "stdout",
     "output_type": "stream",
     "text": [
      "[619 'France' 'Female' 42 2 0.0 1 1 1 101348.88]\n"
     ]
    }
   ],
   "source": [
    "print(X[0])"
   ]
  },
  {
   "cell_type": "code",
   "execution_count": 57,
   "id": "58ace7ac",
   "metadata": {},
   "outputs": [],
   "source": [
    "## ENCODING CATEGORICAL DATA\n",
    "\n",
    "#### Label Encoding"
   ]
  },
  {
   "cell_type": "code",
   "execution_count": 58,
   "id": "1f4dbea9",
   "metadata": {},
   "outputs": [],
   "source": [
    "from sklearn.preprocessing import LabelEncoder\n",
    "le = LabelEncoder()\n",
    "X[:, 2] = le.fit_transform(X[:, 2])\n"
   ]
  },
  {
   "cell_type": "code",
   "execution_count": 39,
   "id": "333045b4",
   "metadata": {},
   "outputs": [],
   "source": [
    "### One Hot Encoding on Country "
   ]
  },
  {
   "cell_type": "code",
   "execution_count": 59,
   "id": "fcaed0ce",
   "metadata": {},
   "outputs": [],
   "source": [
    "from sklearn.compose import ColumnTransformer\n",
    "from sklearn.preprocessing import OneHotEncoder\n",
    "ct = ColumnTransformer(transformers=[('encoder', OneHotEncoder(), [1])], remainder='passthrough')\n",
    "X = np.array(ct.fit_transform(X))\n"
   ]
  },
  {
   "cell_type": "code",
   "execution_count": 60,
   "id": "b6bdae1f",
   "metadata": {},
   "outputs": [
    {
     "name": "stdout",
     "output_type": "stream",
     "text": [
      "[[1.0 0.0 0.0 ... 1 1 101348.88]\n",
      " [0.0 0.0 1.0 ... 0 1 112542.58]\n",
      " [1.0 0.0 0.0 ... 1 0 113931.57]\n",
      " ...\n",
      " [1.0 0.0 0.0 ... 0 1 42085.58]\n",
      " [0.0 1.0 0.0 ... 1 0 92888.52]\n",
      " [1.0 0.0 0.0 ... 1 0 38190.78]]\n"
     ]
    }
   ],
   "source": [
    "print(X)"
   ]
  },
  {
   "cell_type": "code",
   "execution_count": 61,
   "id": "a4e0c43f",
   "metadata": {},
   "outputs": [],
   "source": [
    "from sklearn.model_selection import train_test_split\n",
    "X_train, X_test, y_train, y_test = train_test_split(X, y, test_size=0.25, random_state=0)"
   ]
  },
  {
   "cell_type": "code",
   "execution_count": 62,
   "id": "0d9abe68",
   "metadata": {},
   "outputs": [],
   "source": [
    "## FEATURE SCALING"
   ]
  },
  {
   "cell_type": "code",
   "execution_count": 68,
   "id": "a2f49fe0",
   "metadata": {},
   "outputs": [],
   "source": [
    "from sklearn.preprocessing import StandardScaler\n",
    "sc = StandardScaler()\n",
    "X_train = sc.fit_transform(X_train)\n",
    "X_test = sc.transform(X_test)"
   ]
  },
  {
   "cell_type": "code",
   "execution_count": 69,
   "id": "051bd8cf",
   "metadata": {},
   "outputs": [
    {
     "name": "stdout",
     "output_type": "stream",
     "text": [
      "[1.0 0.0 0.0 619 0 42 2 0.0 1 1 1 101348.88]\n",
      "[-1.01558815  1.76021608 -0.57468161 -0.73550706 -1.08726059  0.01526571\n",
      "  0.00886037  0.67316003  2.53503394 -1.55362351 -1.03446007 -1.64080994]\n",
      "[1 0 1 ... 1 1 0]\n",
      "[1 0 0 ... 0 0 1]\n"
     ]
    }
   ],
   "source": [
    "print(X[0])\n",
    "print(X_train[0])\n",
    "print(y)\n",
    "print(y_train)"
   ]
  },
  {
   "cell_type": "code",
   "execution_count": 70,
   "id": "ab41a773",
   "metadata": {},
   "outputs": [],
   "source": [
    "## Building THE ANN "
   ]
  },
  {
   "cell_type": "code",
   "execution_count": 75,
   "id": "27c7837f",
   "metadata": {},
   "outputs": [],
   "source": [
    "ann = tf.keras.models.Sequential()\n",
    "\n",
    "## ADDING THE INPUT LAYER\n",
    "## FUlly Connected  Hidden Layer with 6 Neurons\n",
    "ann.add(tf.keras.layers.Dense(units = 6, activation = 'relu'))\n",
    "\n",
    "## Adding the second hidden layer\n",
    "ann.add(tf.keras.layers.Dense(units = 6, activation = 'relu'))\n",
    "\n",
    "# ADDING THE OUTPUT LAYER\n",
    "ann.add(tf.keras.layers.Dense(units = 1, activation = 'sigmoid'))"
   ]
  },
  {
   "cell_type": "code",
   "execution_count": 76,
   "id": "0835498f",
   "metadata": {},
   "outputs": [],
   "source": [
    "## PART 3 - Training"
   ]
  },
  {
   "cell_type": "code",
   "execution_count": 78,
   "id": "f9b2b9fb",
   "metadata": {},
   "outputs": [
    {
     "name": "stdout",
     "output_type": "stream",
     "text": [
      "Epoch 1/75\n",
      "235/235 [==============================] - 1s 2ms/step - loss: 0.3412 - accuracy: 0.8592\n",
      "Epoch 2/75\n",
      "235/235 [==============================] - 0s 1ms/step - loss: 0.3404 - accuracy: 0.8620\n",
      "Epoch 3/75\n",
      "235/235 [==============================] - 0s 2ms/step - loss: 0.3396 - accuracy: 0.8613\n",
      "Epoch 4/75\n",
      "235/235 [==============================] - 0s 1ms/step - loss: 0.3393 - accuracy: 0.8603\n",
      "Epoch 5/75\n",
      "235/235 [==============================] - 0s 1ms/step - loss: 0.3388 - accuracy: 0.8609\n",
      "Epoch 6/75\n",
      "235/235 [==============================] - 0s 1ms/step - loss: 0.3386 - accuracy: 0.8604\n",
      "Epoch 7/75\n",
      "235/235 [==============================] - 0s 1ms/step - loss: 0.3382 - accuracy: 0.8600\n",
      "Epoch 8/75\n",
      "235/235 [==============================] - 0s 1ms/step - loss: 0.3378 - accuracy: 0.8617\n",
      "Epoch 9/75\n",
      "235/235 [==============================] - 0s 2ms/step - loss: 0.3374 - accuracy: 0.8600\n",
      "Epoch 10/75\n",
      "235/235 [==============================] - 0s 1ms/step - loss: 0.3371 - accuracy: 0.8603\n",
      "Epoch 11/75\n",
      "235/235 [==============================] - 0s 1ms/step - loss: 0.3368 - accuracy: 0.8605\n",
      "Epoch 12/75\n",
      "235/235 [==============================] - 0s 2ms/step - loss: 0.3368 - accuracy: 0.8616\n",
      "Epoch 13/75\n",
      "235/235 [==============================] - 0s 1ms/step - loss: 0.3366 - accuracy: 0.8607\n",
      "Epoch 14/75\n",
      "235/235 [==============================] - 0s 1ms/step - loss: 0.3360 - accuracy: 0.8611\n",
      "Epoch 15/75\n",
      "235/235 [==============================] - 0s 1ms/step - loss: 0.3360 - accuracy: 0.8599\n",
      "Epoch 16/75\n",
      "235/235 [==============================] - 0s 1ms/step - loss: 0.3360 - accuracy: 0.8611\n",
      "Epoch 17/75\n",
      "235/235 [==============================] - 0s 1ms/step - loss: 0.3358 - accuracy: 0.8612\n",
      "Epoch 18/75\n",
      "235/235 [==============================] - 0s 2ms/step - loss: 0.3355 - accuracy: 0.8613\n",
      "Epoch 19/75\n",
      "235/235 [==============================] - 0s 1ms/step - loss: 0.3355 - accuracy: 0.8599\n",
      "Epoch 20/75\n",
      "235/235 [==============================] - 0s 1ms/step - loss: 0.3354 - accuracy: 0.8613\n",
      "Epoch 21/75\n",
      "235/235 [==============================] - 0s 2ms/step - loss: 0.3349 - accuracy: 0.8605\n",
      "Epoch 22/75\n",
      "235/235 [==============================] - 0s 1ms/step - loss: 0.3348 - accuracy: 0.8596\n",
      "Epoch 23/75\n",
      "235/235 [==============================] - 0s 1ms/step - loss: 0.3346 - accuracy: 0.8604\n",
      "Epoch 24/75\n",
      "235/235 [==============================] - 0s 1ms/step - loss: 0.3349 - accuracy: 0.8604\n",
      "Epoch 25/75\n",
      "235/235 [==============================] - 0s 1ms/step - loss: 0.3344 - accuracy: 0.8616\n",
      "Epoch 26/75\n",
      "235/235 [==============================] - 0s 2ms/step - loss: 0.3343 - accuracy: 0.8629\n",
      "Epoch 27/75\n",
      "235/235 [==============================] - 0s 1ms/step - loss: 0.3341 - accuracy: 0.8605\n",
      "Epoch 28/75\n",
      "235/235 [==============================] - 0s 1ms/step - loss: 0.3339 - accuracy: 0.8619\n",
      "Epoch 29/75\n",
      "235/235 [==============================] - 0s 1ms/step - loss: 0.3339 - accuracy: 0.8621\n",
      "Epoch 30/75\n",
      "235/235 [==============================] - 0s 1ms/step - loss: 0.3334 - accuracy: 0.8617\n",
      "Epoch 31/75\n",
      "235/235 [==============================] - 0s 1ms/step - loss: 0.3338 - accuracy: 0.8612\n",
      "Epoch 32/75\n",
      "235/235 [==============================] - 0s 1ms/step - loss: 0.3336 - accuracy: 0.8627\n",
      "Epoch 33/75\n",
      "235/235 [==============================] - 0s 1ms/step - loss: 0.3336 - accuracy: 0.8607\n",
      "Epoch 34/75\n",
      "235/235 [==============================] - 0s 2ms/step - loss: 0.3332 - accuracy: 0.8612\n",
      "Epoch 35/75\n",
      "235/235 [==============================] - 0s 1ms/step - loss: 0.3333 - accuracy: 0.8611\n",
      "Epoch 36/75\n",
      "235/235 [==============================] - 0s 1ms/step - loss: 0.3332 - accuracy: 0.8624\n",
      "Epoch 37/75\n",
      "235/235 [==============================] - 0s 1ms/step - loss: 0.3329 - accuracy: 0.8613\n",
      "Epoch 38/75\n",
      "235/235 [==============================] - 0s 2ms/step - loss: 0.3332 - accuracy: 0.8613\n",
      "Epoch 39/75\n",
      "235/235 [==============================] - 0s 1ms/step - loss: 0.3328 - accuracy: 0.8613\n",
      "Epoch 40/75\n",
      "235/235 [==============================] - 0s 2ms/step - loss: 0.3324 - accuracy: 0.8633\n",
      "Epoch 41/75\n",
      "235/235 [==============================] - 0s 2ms/step - loss: 0.3326 - accuracy: 0.8612\n",
      "Epoch 42/75\n",
      "235/235 [==============================] - 0s 2ms/step - loss: 0.3327 - accuracy: 0.8623\n",
      "Epoch 43/75\n",
      "235/235 [==============================] - 0s 1ms/step - loss: 0.3321 - accuracy: 0.8615\n",
      "Epoch 44/75\n",
      "235/235 [==============================] - 0s 1ms/step - loss: 0.3325 - accuracy: 0.8605\n",
      "Epoch 45/75\n",
      "235/235 [==============================] - 0s 2ms/step - loss: 0.3322 - accuracy: 0.8617\n",
      "Epoch 46/75\n",
      "235/235 [==============================] - 0s 1ms/step - loss: 0.3323 - accuracy: 0.8616\n",
      "Epoch 47/75\n",
      "235/235 [==============================] - 0s 1ms/step - loss: 0.3320 - accuracy: 0.8613\n",
      "Epoch 48/75\n",
      "235/235 [==============================] - 0s 1ms/step - loss: 0.3318 - accuracy: 0.8617\n",
      "Epoch 49/75\n",
      "235/235 [==============================] - 0s 1ms/step - loss: 0.3321 - accuracy: 0.8611\n",
      "Epoch 50/75\n",
      "235/235 [==============================] - 0s 1ms/step - loss: 0.3316 - accuracy: 0.8604\n",
      "Epoch 51/75\n",
      "235/235 [==============================] - 0s 1ms/step - loss: 0.3316 - accuracy: 0.8609\n",
      "Epoch 52/75\n",
      "235/235 [==============================] - 0s 1ms/step - loss: 0.3318 - accuracy: 0.8616\n",
      "Epoch 53/75\n",
      "235/235 [==============================] - 0s 1ms/step - loss: 0.3318 - accuracy: 0.8629\n",
      "Epoch 54/75\n",
      "235/235 [==============================] - 0s 1ms/step - loss: 0.3320 - accuracy: 0.8620\n",
      "Epoch 55/75\n",
      "235/235 [==============================] - 0s 1ms/step - loss: 0.3317 - accuracy: 0.8621\n",
      "Epoch 56/75\n",
      "235/235 [==============================] - 0s 1ms/step - loss: 0.3320 - accuracy: 0.8609\n",
      "Epoch 57/75\n",
      "235/235 [==============================] - 0s 1ms/step - loss: 0.3314 - accuracy: 0.8613\n",
      "Epoch 58/75\n",
      "235/235 [==============================] - 0s 1ms/step - loss: 0.3314 - accuracy: 0.8616\n",
      "Epoch 59/75\n",
      "235/235 [==============================] - 0s 2ms/step - loss: 0.3316 - accuracy: 0.8625\n",
      "Epoch 60/75\n",
      "235/235 [==============================] - 0s 2ms/step - loss: 0.3315 - accuracy: 0.8608\n",
      "Epoch 61/75\n",
      "235/235 [==============================] - 0s 1ms/step - loss: 0.3314 - accuracy: 0.8623\n",
      "Epoch 62/75\n",
      "235/235 [==============================] - 0s 1ms/step - loss: 0.3315 - accuracy: 0.8616\n",
      "Epoch 63/75\n",
      "235/235 [==============================] - 0s 1ms/step - loss: 0.3310 - accuracy: 0.8635\n",
      "Epoch 64/75\n",
      "235/235 [==============================] - 0s 2ms/step - loss: 0.3315 - accuracy: 0.8615\n",
      "Epoch 65/75\n",
      "235/235 [==============================] - 0s 1ms/step - loss: 0.3310 - accuracy: 0.8623\n",
      "Epoch 66/75\n",
      "235/235 [==============================] - 0s 2ms/step - loss: 0.3310 - accuracy: 0.8615\n",
      "Epoch 67/75\n",
      "235/235 [==============================] - 0s 1ms/step - loss: 0.3314 - accuracy: 0.8621\n",
      "Epoch 68/75\n",
      "235/235 [==============================] - 0s 1ms/step - loss: 0.3313 - accuracy: 0.8635\n",
      "Epoch 69/75\n",
      "235/235 [==============================] - 0s 2ms/step - loss: 0.3310 - accuracy: 0.8621\n",
      "Epoch 70/75\n",
      "235/235 [==============================] - 0s 1ms/step - loss: 0.3310 - accuracy: 0.8611\n",
      "Epoch 71/75\n",
      "235/235 [==============================] - 0s 1ms/step - loss: 0.3309 - accuracy: 0.8620\n",
      "Epoch 72/75\n",
      "235/235 [==============================] - 0s 1ms/step - loss: 0.3309 - accuracy: 0.8624\n",
      "Epoch 73/75\n",
      "235/235 [==============================] - 0s 1ms/step - loss: 0.3310 - accuracy: 0.8621\n",
      "Epoch 74/75\n",
      "235/235 [==============================] - 0s 1ms/step - loss: 0.3307 - accuracy: 0.8624\n",
      "Epoch 75/75\n",
      "235/235 [==============================] - 0s 1ms/step - loss: 0.3308 - accuracy: 0.8619\n"
     ]
    },
    {
     "data": {
      "text/plain": [
       "<keras.callbacks.History at 0x1f15cce8c10>"
      ]
     },
     "execution_count": 78,
     "metadata": {},
     "output_type": "execute_result"
    }
   ],
   "source": [
    "## COMPILING \n",
    "## Optimizer is the function used to calculate the cost value of model, which is used to\n",
    "## adjust the weights of every synapse during backpropogation process. \n",
    "## Stochasti Gradient Desccent is considered to be the best one \n",
    "## And ADAM optimizer is the one carrying it\n",
    "\n",
    "## LOSS FUNCTION duing binary classification - binary_crossentropy\n",
    "##                       non-binary Classification = categorical_crossentropy\n",
    "##                                   activation = 'soft_max'\n",
    "\n",
    "ann.compile(optimizer = 'adam', loss = 'binary_crossentropy', metrics = ['accuracy'])\n",
    "\n",
    "## Training ANN Training Set\n",
    "## Batch Learning,  compares the predicted results with the real results after a batch of certain entries so that \n",
    "## Cost function and weight manipulation can be reduced to the number of batches, rather than for every data entry \n",
    "ann.fit(X_train, y_train, batch_size = 32, epochs = 75 )"
   ]
  },
  {
   "cell_type": "code",
   "execution_count": 85,
   "id": "56a7f62b",
   "metadata": {},
   "outputs": [
    {
     "name": "stdout",
     "output_type": "stream",
     "text": [
      "<class 'numpy.ndarray'>\n"
     ]
    }
   ],
   "source": [
    "## Predicting the Results \n",
    "print(type(y_test))"
   ]
  },
  {
   "cell_type": "code",
   "execution_count": 97,
   "id": "fb197802",
   "metadata": {},
   "outputs": [
    {
     "name": "stdout",
     "output_type": "stream",
     "text": [
      "1/1 [==============================] - 0s 31ms/step\n",
      "[[ True]]\n"
     ]
    }
   ],
   "source": [
    "print(ann.predict(sc.transform([[1, 0, 1, 600, 0, 40, 3, 60000, 2, 1, 1, 50000]])) > 0.5)\n",
    "## As the Function used in the output layer is the sigmoid function \n",
    "## It will return the result as a probability between 0 & 1\n",
    "## For our convenience we determine that anything above 0.5 is true and below that is false"
   ]
  },
  {
   "cell_type": "code",
   "execution_count": 96,
   "id": "028bef5e",
   "metadata": {},
   "outputs": [
    {
     "name": "stdout",
     "output_type": "stream",
     "text": [
      "79/79 [==============================] - 0s 1ms/step\n",
      "[[0 0]\n",
      " [0 1]\n",
      " [0 0]\n",
      " ...\n",
      " [0 0]\n",
      " [0 0]\n",
      " [0 0]]\n"
     ]
    }
   ],
   "source": [
    "model = ann.predict(X_test)\n",
    "model = (model > 0.5)\n",
    "\n",
    "print(np.concatenate((model.reshape(len(model), 1), y_test.reshape(len(y_test), 1)),1))"
   ]
  },
  {
   "cell_type": "code",
   "execution_count": 98,
   "id": "8c9cc936",
   "metadata": {},
   "outputs": [
    {
     "name": "stdout",
     "output_type": "stream",
     "text": [
      "0.8636\n"
     ]
    },
    {
     "data": {
      "text/plain": [
       "<sklearn.metrics._plot.confusion_matrix.ConfusionMatrixDisplay at 0x1f15c875580>"
      ]
     },
     "execution_count": 98,
     "metadata": {},
     "output_type": "execute_result"
    },
    {
     "data": {
      "image/png": "[encoded data removed]",
      "text/plain": [
       "<Figure size 432x288 with 2 Axes>"
      ]
     },
     "metadata": {
      "needs_background": "light"
     },
     "output_type": "display_data"
    }
   ],
   "source": [
    "from sklearn.metrics import accuracy_score, confusion_matrix, ConfusionMatrixDisplay\n",
    "disp = ConfusionMatrixDisplay(confusion_matrix(y_test, model))\n",
    "print(accuracy_score(y_test, model))\n",
    "disp.plot()"
   ]
  },
  {
   "cell_type": "code",
   "execution_count": null,
   "id": "df912a34",
   "metadata": {},
   "outputs": [],
   "source": []
  }
 ],
 "metadata": {
  "kernelspec": {
   "display_name": "Python 3 (ipykernel)",
   "language": "python",
   "name": "python3"
  },
  "language_info": {
   "codemirror_mode": {
    "name": "ipython",
    "version": 3
   },
   "file_extension": ".py",
   "mimetype": "text/x-python",
   "name": "python",
   "nbconvert_exporter": "python",
   "pygments_lexer": "ipython3",
   "version": "3.9.4"
  }
 },
 "nbformat": 4,
 "nbformat_minor": 5
}
